{
 "cells": [
  {
   "cell_type": "code",
   "execution_count": null,
   "metadata": {
    "vscode": {
     "languageId": "plaintext"
    }
   },
   "outputs": [],
   "source": [
    "def tell_a_joke():\n",
    "    prompt = \"What do you want? \"\n",
    "    joke = \"Here is a joke for you! Sophia is heading out to the grocery store. A programmer tells her: get a liter of milk, and if they have eggs, get 12. Sophia returns with 13 liters of milk. The programmer asks why and Sophia replies: 'because they had eggs'\"\n",
    "    sorry = \"Sorry I only tell jokes.\"\n",
    "\n",
    "    user_input = input(prompt)\n",
    "    if user_input.lower() == 'joke':\n",
    "        print(joke)\n",
    "    else:\n",
    "        print(sorry)  \n",
    "if __name__ == 'tell_a_joke':\n",
    "    tell_a_joke()"
   ]
  }
 ],
 "metadata": {
  "language_info": {
   "name": "python"
  }
 },
 "nbformat": 4,
 "nbformat_minor": 2
}
