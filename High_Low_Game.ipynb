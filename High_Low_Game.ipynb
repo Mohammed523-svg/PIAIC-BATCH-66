{
  "nbformat": 4,
  "nbformat_minor": 0,
  "metadata": {
    "colab": {
      "provenance": [],
      "authorship_tag": "ABX9TyPqNVhMfTSCBPduP+0ddoSp"
    },
    "kernelspec": {
      "name": "python3",
      "display_name": "Python 3"
    },
    "language_info": {
      "name": "python"
    }
  },
  "cells": [
    {
      "cell_type": "code",
      "source": [
        "import random\n",
        "\n",
        "NUM_ROUNDS = 5\n",
        "user_points = 0\n",
        "\n",
        "def main():\n",
        "    global user_points\n",
        "    print(\"Welcome to the High-Low Game!\")\n",
        "    print('--------------------------------')\n",
        "    for i in range(NUM_ROUNDS):\n",
        "        user_number = random.randint(1, 100)\n",
        "        computer_number = random.randint(1, 100)\n",
        "        print(f\"Round \" + str(i + 1))\n",
        "        print(user_number)\n",
        "        user_guess = input(\"Do you think your number is higher or lower than the computer's?:\")\n",
        "        if user_number == computer_number:\n",
        "                print(f\"Aww, that's incorrect. The computer's number was \" + str(computer_number))\n",
        "                print(f\"Your score is now \" + str(user_points))\n",
        "        else:\n",
        "              if user_guess.lower() == \"higher\":\n",
        "                  if user_number > computer_number:\n",
        "                      user_points += 1\n",
        "                      print(f\"You were right! The computer's number was \" + str(computer_number))\n",
        "                      print(f\"Your score is now \" + str(user_points))\n",
        "                  else:\n",
        "                      print(f\"Aww, that's incorrect. The computer's number was \" + str(computer_number))\n",
        "                      print(f\"Your score is now \" + str(user_points))\n",
        "              elif user_guess.lower() == \"lower\":\n",
        "                  if user_number < computer_number:\n",
        "                      user_points += 1\n",
        "                      print(f\"You were right! The computer's number was \" + str(computer_number))\n",
        "                      print(f\"Your score is now \" + str(user_points))\n",
        "                  else:\n",
        "                      print(f\"Aww, that's incorrect. The computer's number was \" + str(computer_number))\n",
        "                      print(f\"Your score is now \" + str(user_points))\n",
        "              else:\n",
        "                  print(\"invalid input\")\n",
        "\n",
        "    if user_points == 5:\n",
        "       print(\"Wow! You played perfectly!\")\n",
        "    elif user_points > 2:\n",
        "       print(\"Good job, you played really well!\")\n",
        "    else:\n",
        "       print(\"Better luck next time!\")\n",
        "\n",
        "    user_points = 0\n",
        "\n",
        "    # TODO: Write your code here!!! :)\n",
        "\n",
        "if __name__ == \"__main__\":\n",
        "    main()"
      ],
      "metadata": {
        "colab": {
          "base_uri": "https://localhost:8080/"
        },
        "id": "p0RqjvmJiFXV",
        "outputId": "cb1372e4-d838-42d3-dadf-f4d855f55146"
      },
      "execution_count": 25,
      "outputs": [
        {
          "output_type": "stream",
          "name": "stdout",
          "text": [
            "Welcome to the High-Low Game!\n",
            "--------------------------------\n",
            "Round 1\n",
            "68\n",
            "Do you think your number is higher or lower than the computer's?:lower\n",
            "Aww, that's incorrect. The computer's number was 38\n",
            "Your score is now 0\n",
            "Round 2\n",
            "9\n",
            "Do you think your number is higher or lower than the computer's?:lower\n",
            "You were right! The computer's number was 76\n",
            "Your score is now 1\n",
            "Round 3\n",
            "69\n",
            "Do you think your number is higher or lower than the computer's?:lower\n",
            "You were right! The computer's number was 98\n",
            "Your score is now 2\n",
            "Round 4\n",
            "98\n",
            "Do you think your number is higher or lower than the computer's?:higher\n",
            "You were right! The computer's number was 80\n",
            "Your score is now 3\n",
            "Round 5\n",
            "100\n",
            "Do you think your number is higher or lower than the computer's?:lower\n",
            "Aww, that's incorrect. The computer's number was 5\n",
            "Your score is now 3\n",
            "Good job, you played really well!\n"
          ]
        }
      ]
    }
  ]
}