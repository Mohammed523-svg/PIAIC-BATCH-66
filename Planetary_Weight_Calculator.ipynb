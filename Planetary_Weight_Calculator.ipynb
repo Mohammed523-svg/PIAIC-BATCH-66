{
  "nbformat": 4,
  "nbformat_minor": 0,
  "metadata": {
    "colab": {
      "provenance": [],
      "authorship_tag": "ABX9TyNDKAQnKitLw6YA5priyBcr"
    },
    "kernelspec": {
      "name": "python3",
      "display_name": "Python 3"
    },
    "language_info": {
      "name": "python"
    }
  },
  "cells": [
    {
      "cell_type": "code",
      "source": [
        "Mercury = 0.376\n",
        "Venus = 0.889\n",
        "Mars = 0.378\n",
        "Jupiter = 2.360\n",
        "Saturn = 1.081\n",
        "Uranus = 0.815\n",
        "Neptune = 1.140\n",
        "\n",
        "def main():\n",
        "    weight = float(input(\"Enter a weight on Earth: \"))\n",
        "    planet = input(\"Enter a planet: \")\n",
        "\n",
        "    new_weight = weight * globals()[planet]\n",
        "    print(f\"The equivalent weight on \" + str(planet) + \": \" + str(new_weight))\n",
        "if __name__ == \"__main__\":\n",
        "    main()"
      ],
      "metadata": {
        "colab": {
          "base_uri": "https://localhost:8080/"
        },
        "id": "gFDCAvV9v49r",
        "outputId": "46dbbe3e-e080-4b93-b6c7-b94cf7915d3e"
      },
      "execution_count": 29,
      "outputs": [
        {
          "output_type": "stream",
          "name": "stdout",
          "text": [
            "Enter a weight on Earth: 140\n",
            "Enter a planet: Saturn\n",
            "The equivalent weight on Saturn: 151.34\n"
          ]
        }
      ]
    }
  ]
}