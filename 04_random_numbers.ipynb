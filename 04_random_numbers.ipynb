{
  "nbformat": 4,
  "nbformat_minor": 0,
  "metadata": {
    "colab": {
      "provenance": [],
      "authorship_tag": "ABX9TyNx7egtrNTkTuQKPZpbRTSE"
    },
    "kernelspec": {
      "name": "python3",
      "display_name": "Python 3"
    },
    "language_info": {
      "name": "python"
    }
  },
  "cells": [
    {
      "cell_type": "code",
      "source": [
        "import random\n",
        "\n",
        "N_NUMBERS: int = 10\n",
        "MIN_VALUE: int = 1\n",
        "MAX_VALUE: int = 100\n",
        "\n",
        "def main():\n",
        "    for i in range(N_NUMBERS):\n",
        "      number = random.randint(0, 99)\n",
        "      print(number)\n",
        "if __name__ == '__main__':\n",
        "    main()"
      ],
      "metadata": {
        "colab": {
          "base_uri": "https://localhost:8080/"
        },
        "id": "5_3YkGqfKbMB",
        "outputId": "fb941917-f7c9-413c-f3a6-9ff8a72b81ed"
      },
      "execution_count": 29,
      "outputs": [
        {
          "output_type": "stream",
          "name": "stdout",
          "text": [
            "42\n",
            "85\n",
            "61\n",
            "64\n",
            "71\n",
            "30\n",
            "32\n",
            "94\n",
            "63\n",
            "72\n"
          ]
        }
      ]
    }
  ]
}