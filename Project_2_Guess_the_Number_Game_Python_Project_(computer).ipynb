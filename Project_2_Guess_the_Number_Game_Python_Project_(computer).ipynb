{
  "nbformat": 4,
  "nbformat_minor": 0,
  "metadata": {
    "colab": {
      "provenance": [],
      "authorship_tag": "ABX9TyND8kxobx43zYffV8FaHhjG",
      "include_colab_link": true
    },
    "kernelspec": {
      "name": "python3",
      "display_name": "Python 3"
    },
    "language_info": {
      "name": "python"
    }
  },
  "cells": [
    {
      "cell_type": "markdown",
      "metadata": {
        "id": "view-in-github",
        "colab_type": "text"
      },
      "source": [
        "<a href=\"https://colab.research.google.com/github/Mohammed523-svg/PIAIC-BATCH-66/blob/main/Project_2_Guess_the_Number_Game_Python_Project_(computer).ipynb\" target=\"_parent\"><img src=\"https://colab.research.google.com/assets/colab-badge.svg\" alt=\"Open In Colab\"/></a>"
      ]
    },
    {
      "cell_type": "code",
      "execution_count": 1,
      "metadata": {
        "id": "cR5Pe_cte7eN",
        "colab": {
          "base_uri": "https://localhost:8080/"
        },
        "outputId": "506d9dd2-4d34-4e45-874d-9caedb51354f"
      },
      "outputs": [
        {
          "output_type": "stream",
          "name": "stdout",
          "text": [
            "Guess a number between 1 and 10: 5\n",
            "Sorry, guess again, too low.\n",
            "Guess a number between 1 and 10: 8\n",
            "Sorry, guess again, too high.\n",
            "Guess a number between 1 and 10: 6\n",
            "Sorry, guess again, too low.\n",
            "Guess a number between 1 and 10: 7\n",
            "You did it, you guess the number 7\n"
          ]
        }
      ],
      "source": [
        "import random\n",
        "\n",
        "def guess(x):\n",
        "  random_num = random.randint(1, x)\n",
        "  guess = 0\n",
        "  while guess != random_num:\n",
        "    guess = int(input(f'Guess a number between 1 and {x}: '))\n",
        "    if guess < random_num:\n",
        "      print('Sorry, guess again, too low.')\n",
        "    elif guess > random_num:\n",
        "      print('Sorry, guess again, too high.')\n",
        "  print(f'You did it, you guess the number {guess}')\n",
        "\n",
        "guess(10)\n"
      ]
    }
  ]
}