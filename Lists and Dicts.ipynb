{
  "nbformat": 4,
  "nbformat_minor": 0,
  "metadata": {
    "colab": {
      "provenance": [],
      "authorship_tag": "ABX9TyO1MvHF8sObw99hzqBWNlUP"
    },
    "kernelspec": {
      "name": "python3",
      "display_name": "Python 3"
    },
    "language_info": {
      "name": "python"
    }
  },
  "cells": [
    {
      "cell_type": "code",
      "source": [
        "# Problem #1: List Practice\n",
        "fruit_list = ['apple', 'banana', 'orange', 'grape', 'pineapple']\n",
        "# Print the length of the list.\n",
        "print(len(fruit_list))\n",
        "# Add 'mango' at the end of the list.\n",
        "fruit_list.append('mango')\n",
        "# Print the updated list.\n",
        "print(fruit_list)"
      ],
      "metadata": {
        "colab": {
          "base_uri": "https://localhost:8080/"
        },
        "id": "0aCPTCU60UWJ",
        "outputId": "bc41d432-fb1f-466f-a2e3-5f5ab29d65c1"
      },
      "execution_count": 34,
      "outputs": [
        {
          "output_type": "stream",
          "name": "stdout",
          "text": [
            "5\n",
            "['apple', 'banana', 'orange', 'grape', 'pineapple', 'mango']\n"
          ]
        }
      ]
    },
    {
      "cell_type": "code",
      "source": [
        "# Problem #2: Index Game\n",
        "new_list = [1, 2, 3, 4, 5]\n",
        "# Accessing Elements:\n",
        "def access_element(list, index):\n",
        "  if index < 0 or index >= len(list):\n",
        "    print(\"Invalid index\")\n",
        "  else:\n",
        "    return list[index]\n",
        "\n",
        "# Modifying Elements:\n",
        "def modify_element(list, index, new_value):\n",
        "  if index < 0 or index >= len(list):\n",
        "    print(\"Invalid index\")\n",
        "  else:\n",
        "    list[index] = int(new_value)\n",
        "    print(list)\n",
        "\n",
        "# Slicing the List:\n",
        "def slice_list(list, start_index, end_index):\n",
        "  if start_index < 0 or start_index >= len(list) or end_index < 0 or end_index >= len(list):\n",
        "    print(\"Invalid index\")\n",
        "  else:\n",
        "    return list[start_index:end_index]\n",
        "\n",
        "# Game Interaction:\n",
        "def game_interaction():\n",
        "    global new_list\n",
        "    operation = input(\"Select the operation you would like to perform: access, modify, slice \")\n",
        "    if operation.lower() == 'access':\n",
        "      index = int(input(\"Enter the index you would like to access:\"))\n",
        "      print(access_element(new_list, index))\n",
        "    elif operation.lower() == 'modify':\n",
        "      index = int(input(\"Enter the index you would like to modify:\"))\n",
        "      new_value = input(\"Enter the new value:\")\n",
        "      modify_element(new_list, index, new_value)\n",
        "    elif operation.lower() == 'slice':\n",
        "      start_index = int(input(\"Enter the start index:\"))\n",
        "      end_index = int(input(\"Enter the end index:\"))\n",
        "      print(slice_list(new_list, start_index, end_index))\n",
        "    else:\n",
        "      print(\"Invalid operation\")\n",
        "\n",
        "game_interaction()"
      ],
      "metadata": {
        "id": "BV6xwOBP1EOE"
      },
      "execution_count": null,
      "outputs": []
    }
  ]
}